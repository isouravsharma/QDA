{
 "cells": [
  {
   "cell_type": "code",
   "execution_count": 2,
   "id": "af9b1b5a-2c85-48c2-86dd-ed8f5ce72ab7",
   "metadata": {},
   "outputs": [],
   "source": [
    "from dash import Dash, html"
   ]
  },
  {
   "cell_type": "code",
   "execution_count": 3,
   "id": "e8c2271b-0147-45b8-a9a1-f615e1484cc7",
   "metadata": {},
   "outputs": [],
   "source": [
    "app = Dash()\n",
    "\n",
    "app.layout = [html.Div(children=\"Hello World\")]"
   ]
  },
  {
   "cell_type": "code",
   "execution_count": 4,
   "id": "414a890e-382c-4865-88bf-f47df9b52ca5",
   "metadata": {},
   "outputs": [
    {
     "data": {
      "text/html": [
       "\n",
       "        <iframe\n",
       "            width=\"100%\"\n",
       "            height=\"650\"\n",
       "            src=\"http://127.0.0.1:8050/\"\n",
       "            frameborder=\"0\"\n",
       "            allowfullscreen\n",
       "            \n",
       "        ></iframe>\n",
       "        "
      ],
      "text/plain": [
       "<IPython.lib.display.IFrame at 0x11187d9d0>"
      ]
     },
     "metadata": {},
     "output_type": "display_data"
    }
   ],
   "source": [
    "if __name__ == '__main__':\n",
    "    app.run(debug= True)"
   ]
  },
  {
   "cell_type": "code",
   "execution_count": null,
   "id": "c7cc082c-af56-400c-a9a0-922f4222d839",
   "metadata": {},
   "outputs": [],
   "source": []
  }
 ],
 "metadata": {
  "kernelspec": {
   "display_name": "Python 3 (ipykernel)",
   "language": "python",
   "name": "python3"
  },
  "language_info": {
   "codemirror_mode": {
    "name": "ipython",
    "version": 3
   },
   "file_extension": ".py",
   "mimetype": "text/x-python",
   "name": "python",
   "nbconvert_exporter": "python",
   "pygments_lexer": "ipython3",
   "version": "3.11.7"
  }
 },
 "nbformat": 4,
 "nbformat_minor": 5
}
