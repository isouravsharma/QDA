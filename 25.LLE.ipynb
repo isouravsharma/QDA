{
 "cells": [
  {
   "cell_type": "markdown",
   "id": "d199851e-9589-402d-8a9d-90e5bbbbf0e9",
   "metadata": {},
   "source": [
    "## Locally Linear Embedded"
   ]
  },
  {
   "cell_type": "code",
   "execution_count": null,
   "id": "456948aa-c0c2-4bd1-9de0-43bb01db8683",
   "metadata": {},
   "outputs": [],
   "source": []
  }
 ],
 "metadata": {
  "kernelspec": {
   "display_name": "Python 3 (ipykernel)",
   "language": "python",
   "name": "python3"
  },
  "language_info": {
   "codemirror_mode": {
    "name": "ipython",
    "version": 3
   },
   "file_extension": ".py",
   "mimetype": "text/x-python",
   "name": "python",
   "nbconvert_exporter": "python",
   "pygments_lexer": "ipython3",
   "version": "3.11.7"
  }
 },
 "nbformat": 4,
 "nbformat_minor": 5
}
